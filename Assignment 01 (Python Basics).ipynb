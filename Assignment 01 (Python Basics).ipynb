{
 "cells": [
  {
   "cell_type": "markdown",
   "metadata": {},
   "source": []
  },
  {
   "cell_type": "markdown",
   "metadata": {},
   "source": [
    "# Part -1 Python Basics (Variables)"
   ]
  },
  {
   "cell_type": "markdown",
   "metadata": {},
   "source": [
    "1. Print Your Name with your Father name and Date of birth using suitable escape sequence charactor"
   ]
  },
  {
   "cell_type": "code",
   "execution_count": 55,
   "metadata": {},
   "outputs": [
    {
     "name": "stdout",
     "output_type": "stream",
     "text": [
      "Name\t\t: Inaam Ahmed\n",
      "Father's Name\t: Tanveer Ahmed\n",
      "Date of Birth\t: 08-03-1998\n"
     ]
    }
   ],
   "source": [
    "print(\"Name\\t\\t: Inaam Ahmed\\nFather's Name\\t: Tanveer Ahmed\\nDate of Birth\\t: 08-03-1998\")"
   ]
  },
  {
   "cell_type": "markdown",
   "metadata": {},
   "source": [
    "2. Write your small bio using variables and print it using print function"
   ]
  },
  {
   "cell_type": "code",
   "execution_count": 56,
   "metadata": {},
   "outputs": [
    {
     "name": "stdout",
     "output_type": "stream",
     "text": [
      "--- Personal Biography ---\n",
      "Hello! My name is Inaam Ahmed.\n",
      "I am 25 years old and work as a Web developer Flask and django framework.\n",
      "Currently, I live in Karachi, Pakistan.\n",
      "I have join a Course in Zaitoon ashraf it park center.\n",
      "In my free time, I enjoy coding, reading, and creations.\n"
     ]
    }
   ],
   "source": [
    "name = \"Inaam Ahmed\"\n",
    "age = 25\n",
    "occupation = \"Web developer Flask and django framework\"\n",
    "location = \"Karachi, Pakistan\"\n",
    "hobbies = \"coding, reading, and creations\"\n",
    "Center = \"Zaitoon ashraf it park center\"\n",
    "\n",
    "print(f\"--- Personal Biography ---\")\n",
    "print(f\"Hello! My name is {name}.\")\n",
    "print(f\"I am {age} years old and work as a {occupation}.\")\n",
    "print(f\"Currently, I live in {location}.\")\n",
    "print(f\"I have join a Course in {Center}.\")\n",
    "print(f\"In my free time, I enjoy {hobbies}.\")"
   ]
  },
  {
   "cell_type": "markdown",
   "metadata": {},
   "source": [
    "3. Write a program in which use all the operators we can use in Python"
   ]
  },
  {
   "cell_type": "code",
   "execution_count": 57,
   "metadata": {},
   "outputs": [
    {
     "name": "stdout",
     "output_type": "stream",
     "text": [
      "--- Arithmetic Operators ---\n",
      "Addition: 13\n",
      "Subtraction: 7\n",
      "Multiplication: 30\n",
      "Division: 3.3333333333333335\n",
      "Floor Division: 3\n",
      "Modulus: 1\n",
      "Exponent: 1000\n",
      "\n",
      "--- Comparison Operators ---\n",
      "Equal to: False\n",
      "Not equal to: True\n",
      "Greater than: True\n",
      "Less than: False\n",
      "Greater than or equal to: True\n",
      "Less than or equal to: False\n",
      "\n",
      "--- Logical Operators ---\n",
      "AND: False\n",
      "OR: True\n",
      "NOT: False\n",
      "\n",
      "--- Assignment Operators ---\n",
      "Add and assign: 7\n",
      "Subtract and assign: 6\n",
      "Multiply and assign: 12\n"
     ]
    }
   ],
   "source": [
    "print(\"--- Arithmetic Operators ---\")\n",
    "a = 10\n",
    "b = 3\n",
    "print(f\"Addition: {a + b}\")        \n",
    "print(f\"Subtraction: {a - b}\")     \n",
    "print(f\"Multiplication: {a * b}\")  \n",
    "print(f\"Division: {a / b}\")        \n",
    "print(f\"Floor Division: {a // b}\") \n",
    "print(f\"Modulus: {a % b}\")\n",
    "print(f\"Exponent: {a ** b}\")\n",
    "\n",
    "print(\"\\n--- Comparison Operators ---\")\n",
    "print(f\"Equal to: {a == b}\")\n",
    "print(f\"Not equal to: {a != b}\")\n",
    "print(f\"Greater than: {a > b}\")\n",
    "print(f\"Less than: {a < b}\")\n",
    "print(f\"Greater than or equal to: {a >= b}\")\n",
    "print(f\"Less than or equal to: {a <= b}\")\n",
    "\n",
    "print(\"\\n--- Logical Operators ---\")\n",
    "x = True\n",
    "y = False\n",
    "print(f\"AND: {x and y}\")\n",
    "print(f\"OR: {x or y}\")\n",
    "print(f\"NOT: {not x}\")\n",
    "\n",
    "print(\"\\n--- Assignment Operators ---\")\n",
    "c = 5\n",
    "c += 2  \n",
    "print(f\"Add and assign: {c}\")\n",
    "c -= 1  \n",
    "print(f\"Subtract and assign: {c}\")\n",
    "c *= 2 \n",
    "print(f\"Multiply and assign: {c}\")\n",
    "\n"
   ]
  },
  {
   "cell_type": "markdown",
   "metadata": {},
   "source": [
    "4. Completes the following steps of small task:\n",
    "    - Mention Marks of English , Islamiat and Maths out of 100 in 3 different variables\n",
    "    - Mention Variable of Total Marks and assign 300 to it\n",
    "    - Calculate Percentage"
   ]
  },
  {
   "cell_type": "code",
   "execution_count": 58,
   "metadata": {},
   "outputs": [
    {
     "name": "stdout",
     "output_type": "stream",
     "text": [
      "--- Marks Sheet ---\n",
      "English Marks: 85/100\n",
      "Islamiat Marks: 90/100\n",
      "Mathematics Marks: 95/100\n",
      "-----------------\n",
      "Total Marks: 270/300\n",
      "Percentage: 90.0%\n"
     ]
    }
   ],
   "source": [
    "english_marks = 85 \n",
    "islamiat_marks = 90  \n",
    "maths_marks = 95    \n",
    "\n",
    "total_possible_marks = 300\n",
    "\n",
    "obtained_marks = english_marks + islamiat_marks + maths_marks\n",
    "\n",
    "percentage = (obtained_marks / total_possible_marks) * 100\n",
    "\n",
    "print(\"--- Marks Sheet ---\")\n",
    "print(f\"English Marks: {english_marks}/100\")\n",
    "print(f\"Islamiat Marks: {islamiat_marks}/100\")\n",
    "print(f\"Mathematics Marks: {maths_marks}/100\")\n",
    "print(\"-----------------\")\n",
    "print(f\"Total Marks: {obtained_marks}/{total_possible_marks}\")\n",
    "print(f\"Percentage: {percentage}%\")"
   ]
  },
  {
   "cell_type": "markdown",
   "metadata": {},
   "source": [
    "# Part -2 Python Basics (Conditional Statements)"
   ]
  },
  {
   "cell_type": "markdown",
   "metadata": {},
   "source": [
    "1) A company decided to give bonus of 5% to employee if his/her year of service is more than 5 years.\n",
    "Ask user for their salary and year of service and print the net bonus amount."
   ]
  },
  {
   "cell_type": "code",
   "execution_count": 77,
   "metadata": {},
   "outputs": [
    {
     "name": "stdout",
     "output_type": "stream",
     "text": [
      "Congratulations! Your bonus amount is: 2100.0\n"
     ]
    }
   ],
   "source": [
    "salary = float(input(\"Enter your salary: \"))\n",
    "years_of_service = int(input(\"Enter your years of service: \"))\n",
    "\n",
    "if years_of_service > 5:\n",
    "    bonus = salary * 0.05\n",
    "    print(\"Congratulations! Your bonus amount is:\", bonus)\n",
    "else:\n",
    "    print(\"Sorry, you are not eligible for a bonus.\")\n"
   ]
  },
  {
   "cell_type": "markdown",
   "metadata": {},
   "source": [
    "\n",
    "2) Write a program to check whether a person is eligible for voting or not. (accept age from user) if age is greater than 17 eligible otherwise not eligible"
   ]
  },
  {
   "cell_type": "code",
   "execution_count": 78,
   "metadata": {},
   "outputs": [
    {
     "name": "stdout",
     "output_type": "stream",
     "text": [
      "You are not eligible to vote.\n"
     ]
    }
   ],
   "source": [
    "age = int(input(\"Enter your age: \"))\n",
    "\n",
    "if age > 17:\n",
    "    print(\"You are eligible to vote.\")\n",
    "else:\n",
    "    print(\"You are not eligible to vote.\")"
   ]
  },
  {
   "cell_type": "markdown",
   "metadata": {},
   "source": [
    "\n",
    "3) Write a program to check whether a number entered by user is even or odd."
   ]
  },
  {
   "cell_type": "code",
   "execution_count": 79,
   "metadata": {},
   "outputs": [
    {
     "name": "stdout",
     "output_type": "stream",
     "text": [
      "6 is an even number\n"
     ]
    }
   ],
   "source": [
    "num = int(input(\"Enter a number: \"))\n",
    "if num % 2 == 0:\n",
    "    print(f\"{num} is an even number\")\n",
    "else:\n",
    "    print(f\"{num} is an odd number\")"
   ]
  },
  {
   "cell_type": "markdown",
   "metadata": {},
   "source": [
    "4) Write a program to check whether a number is divisible by 7 or not.\n",
    "Show Answer"
   ]
  },
  {
   "cell_type": "code",
   "execution_count": 92,
   "metadata": {},
   "outputs": [
    {
     "name": "stdout",
     "output_type": "stream",
     "text": [
      "7 is divisible by 7\n"
     ]
    }
   ],
   "source": [
    "number = int(input(\"Enter a number: \"))\n",
    "\n",
    "if number % 7 == 0:\n",
    "    print(f\"{number} is divisible by 7\")\n",
    "else:\n",
    "    print(f\"{number} is not divisible by 7\")"
   ]
  },
  {
   "cell_type": "markdown",
   "metadata": {},
   "source": [
    "5) Write a program to display \n",
    "\"Hello\" if a number entered by user is a multiple of five , otherwise print \"Bye\"."
   ]
  },
  {
   "cell_type": "code",
   "execution_count": 93,
   "metadata": {},
   "outputs": [
    {
     "name": "stdout",
     "output_type": "stream",
     "text": [
      "Hello\n"
     ]
    }
   ],
   "source": [
    "number = int(input(\"Enter a number: \"))\n",
    "\n",
    "if number % 5 == 0:\n",
    "    print(\"Hello\")\n",
    "else:\n",
    "    print(\"Bye\")"
   ]
  },
  {
   "cell_type": "markdown",
   "metadata": {},
   "source": [
    "7) Write a program to display the last digit of a number.\n"
   ]
  },
  {
   "cell_type": "code",
   "execution_count": 95,
   "metadata": {},
   "outputs": [
    {
     "name": "stdout",
     "output_type": "stream",
     "text": [
      "The last digit of 12 is 2\n"
     ]
    }
   ],
   "source": [
    "number = int(input(\"Enter a number: \"))\n",
    "\n",
    "last_digit = number % 10\n",
    "\n",
    "print(f\"The last digit of {number} is {last_digit}\")"
   ]
  },
  {
   "cell_type": "markdown",
   "metadata": {},
   "source": [
    "9) Take values of length and breadth of a rectangle from user and print if it is square or rectangle."
   ]
  },
  {
   "cell_type": "code",
   "execution_count": 96,
   "metadata": {},
   "outputs": [
    {
     "name": "stdout",
     "output_type": "stream",
     "text": [
      "It's a Square with side 5.0\n"
     ]
    }
   ],
   "source": [
    "length = float(input(\"Enter length: \"))\n",
    "breadth = float(input(\"Enter breadth: \"))\n",
    "\n",
    "if length == breadth:\n",
    "    print(f\"It's a Square with side {length}\")\n",
    "else:\n",
    "    print(f\"It's a Rectangle with length {length} and breadth {breadth}\")"
   ]
  },
  {
   "cell_type": "markdown",
   "metadata": {},
   "source": [
    "10) Take two int values from user and print greatest among them."
   ]
  },
  {
   "cell_type": "code",
   "execution_count": 97,
   "metadata": {},
   "outputs": [
    {
     "name": "stdout",
     "output_type": "stream",
     "text": [
      "6 is greater than 4\n"
     ]
    }
   ],
   "source": [
    "num1 = int(input(\"Enter first number: \"))\n",
    "num2 = int(input(\"Enter second number: \"))\n",
    "\n",
    "if num1 > num2:\n",
    "    print(f\"{num1} is greater than {num2}\")\n",
    "elif num2 > num1:\n",
    "    print(f\"{num2} is greater than {num1}\")\n",
    "else:\n",
    "    print(f\"Both numbers are equal ({num1})\")"
   ]
  },
  {
   "cell_type": "markdown",
   "metadata": {},
   "source": [
    "11) A shop will give discount of 10% if the cost of purchased quantity is more than 1000.\n",
    "Ask user for quantity\n",
    "Suppose, one unit will cost 100.\n",
    "Judge and print total cost for user."
   ]
  },
  {
   "cell_type": "code",
   "execution_count": 98,
   "metadata": {},
   "outputs": [
    {
     "name": "stdout",
     "output_type": "stream",
     "text": [
      "\n",
      "--- Purchase Summary ---\n",
      "Quantity: 12 units\n",
      "Cost before discount: $1,200.00\n",
      "Discount applied: $120.00\n",
      "Final cost: $1,080.00\n"
     ]
    }
   ],
   "source": [
    "UNIT_PRICE = 100\n",
    "DISCOUNT_THRESHOLD = 1000\n",
    "DISCOUNT_RATE = 0.10 \n",
    "\n",
    "quantity = int(input(\"Enter the quantity: \"))\n",
    "\n",
    "initial_cost = quantity * UNIT_PRICE\n",
    "\n",
    "if initial_cost > DISCOUNT_THRESHOLD:\n",
    "    discount = initial_cost * DISCOUNT_RATE\n",
    "    final_cost = initial_cost - discount\n",
    "    print(\"\\n--- Purchase Summary ---\")\n",
    "    print(f\"Quantity: {quantity} units\")\n",
    "    print(f\"Cost before discount: ${initial_cost:,.2f}\")\n",
    "    print(f\"Discount applied: ${discount:,.2f}\")\n",
    "    print(f\"Final cost: ${final_cost:,.2f}\")\n",
    "else:\n",
    "    print(\"\\n--- Purchase Summary ---\")\n",
    "    print(f\"Quantity: {quantity} units\")\n",
    "    print(f\"Total cost: ${initial_cost:,.2f}\")\n",
    "    print(\"No discount applied (purchase below $1000)\")"
   ]
  },
  {
   "cell_type": "markdown",
   "metadata": {},
   "source": [
    "12) A school has following rules for grading system:\n",
    "\n",
    "a. Below 25 - F\n",
    "\n",
    "b. 25 to 45 - E\n",
    "\n",
    "c. 45 to 50 - D\n",
    "\n",
    "d. 50 to 60 - C\n",
    "\n",
    "e. 60 to 80 - B\n",
    "\n",
    "f. Above 80 - A\n",
    "\n",
    "Ask user to enter marks and print the corresponding grade."
   ]
  },
  {
   "cell_type": "code",
   "execution_count": 99,
   "metadata": {},
   "outputs": [
    {
     "name": "stdout",
     "output_type": "stream",
     "text": [
      "Grade: D\n"
     ]
    }
   ],
   "source": [
    "marks = float(input(\"Enter your marks: \"))\n",
    "\n",
    "if marks > 80:\n",
    "    print(\"Grade: A\")\n",
    "elif marks > 60:\n",
    "    print(\"Grade: B\")\n",
    "elif marks > 50:\n",
    "    print(\"Grade: C\")\n",
    "elif marks > 45:\n",
    "    print(\"Grade: D\")\n",
    "elif marks >= 25:\n",
    "    print(\"Grade: E\")\n",
    "else:\n",
    "    print(\"Grade: F\")"
   ]
  },
  {
   "cell_type": "markdown",
   "metadata": {},
   "source": [
    "14)A student will not be allowed to sit in exam if his/her attendence is less than 75%.\n",
    "\n",
    "Take following input from user\n",
    "\n",
    "- Number of classes held\n",
    "\n",
    "- Number of classes attended.\n",
    "\n",
    "And print\n",
    "\n",
    "- percentage of class attended\n",
    "\n",
    "- Is student is allowed to sit in exam or not.\n"
   ]
  },
  {
   "cell_type": "code",
   "execution_count": 101,
   "metadata": {},
   "outputs": [
    {
     "name": "stdout",
     "output_type": "stream",
     "text": [
      "\n",
      "Attendance Summary:\n",
      "Attendance Percentage: 95.00%\n",
      "Status: ELIGIBLE for exam\n"
     ]
    }
   ],
   "source": [
    "total_classes = int(input(\"Enter number of classes held: \"))\n",
    "attended_classes = int(input(\"Enter number of classes attended: \"))\n",
    "\n",
    "attendance_percentage = (attended_classes / total_classes) * 100\n",
    "\n",
    "print(f\"\\nAttendance Summary:\")\n",
    "print(f\"Attendance Percentage: {attendance_percentage:.2f}%\")\n",
    "\n",
    "if attendance_percentage >= 75:\n",
    "    print(\"Status: ELIGIBLE for exam\")\n",
    "else:\n",
    "    print(\"Status: NOT ELIGIBLE for exam\")\n",
    "    print(\"Minimum 75% attendance required\")"
   ]
  },
  {
   "cell_type": "markdown",
   "metadata": {},
   "source": [
    "15) Modify the above question to allow student to sit if he/she has medical cause. Ask user if he/she has medical cause or not ( 'Y' or 'N' ) and print accordingly."
   ]
  },
  {
   "cell_type": "code",
   "execution_count": 102,
   "metadata": {},
   "outputs": [
    {
     "name": "stdout",
     "output_type": "stream",
     "text": [
      "Your attendance is 95.00%\n",
      "You are allowed to sit in exam\n"
     ]
    }
   ],
   "source": [
    "classes_held = int(input(\"Enter number of classes held: \"))\n",
    "classes_attended = int(input(\"Enter number of classes attended: \"))\n",
    "attendance = (classes_attended / classes_held) * 100\n",
    "\n",
    "if attendance < 75:\n",
    "    medical = input(\"Do you have medical cause? (Y/N): \")\n",
    "    if medical.upper() == 'Y':\n",
    "        print(f\"Your attendance is {attendance:.2f}%\")\n",
    "        print(\"You are allowed to sit in exam due to medical cause\")\n",
    "    else:\n",
    "        print(f\"Your attendance is {attendance:.2f}%\")\n",
    "        print(\"You are not allowed to sit in exam\")\n",
    "else:\n",
    "    print(f\"Your attendance is {attendance:.2f}%\")\n",
    "    print(\"You are allowed to sit in exam\")"
   ]
  },
  {
   "cell_type": "markdown",
   "metadata": {},
   "source": [
    "16) Write a program to check if a year is leap year or not.\n",
    "\n",
    "If a year is divisible by 4 then it is leap year but if the year is century year like 2000, 1900, 2100 then it must be divisible by 400."
   ]
  },
  {
   "cell_type": "code",
   "execution_count": 104,
   "metadata": {},
   "outputs": [
    {
     "name": "stdout",
     "output_type": "stream",
     "text": [
      "2000 is a leap year\n"
     ]
    }
   ],
   "source": [
    "year = int(input(\"Enter a year: \"))\n",
    "\n",
    "if (year % 400 == 0) or (year % 4 == 0 and year % 100 != 0):\n",
    "    print(f\"{year} is a leap year\")\n",
    "else:\n",
    "    print(f\"{year} is not a leap year\")"
   ]
  },
  {
   "cell_type": "markdown",
   "metadata": {},
   "source": [
    "17) Ask user to enter age, gender ( M or F ), marital status ( Y or N ) and then using following rules print their place of service.\n",
    "\n",
    "if employee is female, then she will work only in urban areas.\n",
    "\n",
    "if employee is a male and age is in between 20 to 40 then he may work in anywhere\n",
    "\n",
    "if employee is male and age is in between 40 t0 60 then he will work in urban areas only.\n",
    "\n",
    "And any other input of age should print \"ERROR\""
   ]
  },
  {
   "cell_type": "code",
   "execution_count": 105,
   "metadata": {},
   "outputs": [
    {
     "name": "stdout",
     "output_type": "stream",
     "text": [
      "Place of service: Anywhere\n"
     ]
    }
   ],
   "source": [
    "age = int(input(\"Enter age: \"))\n",
    "gender = input(\"Enter gender (M/F): \").upper()\n",
    "marital_status = input(\"Enter marital status (Y/N): \").upper()\n",
    "\n",
    "if age < 20 or age > 60:\n",
    "    print(\"ERROR: Age should be between 20 and 60\")\n",
    "elif gender == 'F':\n",
    "    print(\"Place of service: Urban areas only\")\n",
    "elif gender == 'M':\n",
    "    if 20 <= age <= 40:\n",
    "        print(\"Place of service: Anywhere\")\n",
    "    elif 40 < age <= 60:\n",
    "        print(\"Place of service: Urban areas only\")\n",
    "else:\n",
    "    print(\"ERROR: Invalid input\")"
   ]
  },
  {
   "cell_type": "markdown",
   "metadata": {},
   "source": [
    "6) Write a program to calculate the electricity bill (accept number of unit from user) according to the following criteria :\n",
    "     Unit                                                     Price  \n",
    "uptp 100 units                                             no charge\n",
    "Next 200 units                                              Rs 5 per unit\n",
    "After 200 units                                             Rs 10 per unit\n",
    "(For example if input unit is 350 than total bill amount is Rs.3500\n",
    "(For example if input unit is 97 than total bill amount is Rs.0\n",
    "(For example if input unit is 150 than total bill amount is Rs.750"
   ]
  },
  {
   "cell_type": "markdown",
   "metadata": {},
   "source": [
    "13) Take input of age of 3 people by user and determine oldest and youngest among them."
   ]
  },
  {
   "cell_type": "code",
   "execution_count": 109,
   "metadata": {},
   "outputs": [
    {
     "name": "stdout",
     "output_type": "stream",
     "text": [
      "\n",
      "Electricity Bill Summary:\n",
      "Units Consumed: 150\n",
      "Total Bill: Rs. 250\n"
     ]
    }
   ],
   "source": [
    "def calculate_bill(units):\n",
    "    if units <= 100:\n",
    "        return 0\n",
    "    elif units <= 300:\n",
    "        return (units - 100) * 5\n",
    "    else:\n",
    "        return (200 * 5) + ((units - 300) * 10)\n",
    "\n",
    "units = int(input(\"Enter number of units consumed: \"))\n",
    "\n",
    "bill = calculate_bill(units)\n",
    "print(f\"\\nElectricity Bill Summary:\")\n",
    "print(f\"Units Consumed: {units}\")\n",
    "print(f\"Total Bill: Rs. {bill}\")"
   ]
  },
  {
   "cell_type": "code",
   "execution_count": null,
   "metadata": {},
   "outputs": [],
   "source": []
  }
 ],
 "metadata": {
  "kernelspec": {
   "display_name": "Python 3",
   "language": "python",
   "name": "python3"
  },
  "language_info": {
   "codemirror_mode": {
    "name": "ipython",
    "version": 3
   },
   "file_extension": ".py",
   "mimetype": "text/x-python",
   "name": "python",
   "nbconvert_exporter": "python",
   "pygments_lexer": "ipython3",
   "version": "3.12.4"
  }
 },
 "nbformat": 4,
 "nbformat_minor": 2
}
